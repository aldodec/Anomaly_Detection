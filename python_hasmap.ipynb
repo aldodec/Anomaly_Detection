{
  "nbformat": 4,
  "nbformat_minor": 0,
  "metadata": {
    "colab": {
      "provenance": [],
      "collapsed_sections": [],
      "authorship_tag": "ABX9TyOG60/j2R+KgjGo8Pz2yOX9",
      "include_colab_link": true
    },
    "kernelspec": {
      "name": "python3",
      "display_name": "Python 3"
    },
    "language_info": {
      "name": "python"
    }
  },
  "cells": [
    {
      "cell_type": "markdown",
      "metadata": {
        "id": "view-in-github",
        "colab_type": "text"
      },
      "source": [
        "<a href=\"https://colab.research.google.com/github/aldodec/Anomaly_Detection/blob/master/python_hasmap.ipynb\" target=\"_parent\"><img src=\"https://colab.research.google.com/assets/colab-badge.svg\" alt=\"Open In Colab\"/></a>"
      ]
    },
    {
      "cell_type": "code",
      "source": [
        "test_dict1 = {'field':'classical_mechanics','scientist':'Newton'}\n",
        "test_dict2 = {'field':'general_relativity','scientist':'Einstein'}\n",
        "test_dict3 = {'field':'statistical_mechanics','scientist':'Boltzmann'}"
      ],
      "metadata": {
        "id": "lbk6b1Dw8Hrz"
      },
      "execution_count": 14,
      "outputs": []
    },
    {
      "cell_type": "code",
      "source": [
        "test_dict1.get(\"field\")"
      ],
      "metadata": {
        "colab": {
          "base_uri": "https://localhost:8080/",
          "height": 35
        },
        "id": "Ysyp_QKi8HkS",
        "outputId": "ecc18f5a-2506-441b-d229-12a6fbe523ca"
      },
      "execution_count": 15,
      "outputs": [
        {
          "output_type": "execute_result",
          "data": {
            "text/plain": [
              "'classical_mechanics'"
            ],
            "application/vnd.google.colaboratory.intrinsic+json": {
              "type": "string"
            }
          },
          "metadata": {},
          "execution_count": 15
        }
      ]
    },
    {
      "cell_type": "code",
      "execution_count": 24,
      "metadata": {
        "id": "D4E_bZnBFyk4"
      },
      "outputs": [],
      "source": [
        "def function_handler(request):\n",
        "    field = request.get(\"field\")\n",
        "    scientist = request.get(\"scientist\")\n",
        "    # validate input\n",
        "    \n",
        "    if field == \"classical_mechanics\":\n",
        "        _handle_cm(scientist)\n",
        "    elif field == \"general_relativity\":\n",
        "        _handle_gr(scientist)\n",
        "    elif field == \"statistical_mechanics\":\n",
        "        _handle_sm(scientist)\n",
        "\n",
        "\n",
        "def _handle_cm(scientist):\n",
        "    print('F = MA')\n",
        "    return\n",
        "\n",
        "\n",
        "def _handle_gr(scientist):\n",
        "    print('E = MC**2')\n",
        "    return\n",
        "\n",
        "\n",
        "def _handle_sm(scientist):\n",
        "    print('S = k Log W')\n",
        "    return\n"
      ]
    },
    {
      "cell_type": "code",
      "source": [
        "function_handler(test_dict1)"
      ],
      "metadata": {
        "colab": {
          "base_uri": "https://localhost:8080/"
        },
        "id": "M5nlXohQGBIY",
        "outputId": "6c2ed7a8-c95f-4795-862c-929ff0346603"
      },
      "execution_count": 25,
      "outputs": [
        {
          "output_type": "stream",
          "name": "stdout",
          "text": [
            "F = MA\n"
          ]
        }
      ]
    },
    {
      "cell_type": "code",
      "source": [
        "function_handler(test_dict2)"
      ],
      "metadata": {
        "colab": {
          "base_uri": "https://localhost:8080/"
        },
        "id": "WbmeDQnmGBK_",
        "outputId": "1714e2da-f7a2-4808-97b9-b4bc27861c7b"
      },
      "execution_count": 26,
      "outputs": [
        {
          "output_type": "stream",
          "name": "stdout",
          "text": [
            "E = MC**2\n"
          ]
        }
      ]
    },
    {
      "cell_type": "code",
      "source": [
        "function_handler(test_dict3)"
      ],
      "metadata": {
        "colab": {
          "base_uri": "https://localhost:8080/"
        },
        "id": "MIKturCFGBN_",
        "outputId": "f832430c-c577-4e7f-9b29-ac68807a0507"
      },
      "execution_count": 27,
      "outputs": [
        {
          "output_type": "stream",
          "name": "stdout",
          "text": [
            "S = k Log W\n"
          ]
        }
      ]
    },
    {
      "cell_type": "code",
      "source": [
        "#=========================================================="
      ],
      "metadata": {
        "id": "-XhDr979GBQ8"
      },
      "execution_count": 28,
      "outputs": []
    },
    {
      "cell_type": "code",
      "source": [
        "ACTION_MAPPING = {\n",
        "    \"classical_mechanics\": _handle_cm,\n",
        "    \"general_relativity\": _handle_gr,\n",
        "    \"statistical_mechanics\": _handle_sm,}\n",
        "\n",
        "def function_handler2(request):\n",
        "    field = request.get(\"field\")\n",
        "    scientist = request.get(\"scientist\")\n",
        "    # validate input\n",
        "    _handle_request(field, scientist)\n",
        "\n",
        "\n",
        "def _handle_request(field,scientist):\n",
        "    action_handler = ACTION_MAPPING.get(field)\n",
        "    # handle action\n",
        "    action_handler(scientist)\n",
        "\n",
        "\n",
        "def _handle_cm(scientist):\n",
        "    print('F = MA')\n",
        "    return\n",
        "\n",
        "\n",
        "def _handle_gr(scientist):\n",
        "    print('E = MC**2')\n",
        "    return\n",
        "\n",
        "\n",
        "def _handle_sm(scientist):\n",
        "    print('S = k Log W')\n",
        "    return\n"
      ],
      "metadata": {
        "id": "NM8gQtFhGBT9"
      },
      "execution_count": 32,
      "outputs": []
    },
    {
      "cell_type": "code",
      "source": [
        "function_handler2(test_dict1)"
      ],
      "metadata": {
        "colab": {
          "base_uri": "https://localhost:8080/"
        },
        "id": "F-vx7hEeGBVx",
        "outputId": "54d1d88a-aaf6-4b4e-9f60-38102cd7b69b"
      },
      "execution_count": 33,
      "outputs": [
        {
          "output_type": "stream",
          "name": "stdout",
          "text": [
            "F = MA\n"
          ]
        }
      ]
    },
    {
      "cell_type": "code",
      "source": [
        "function_handler2(test_dict2)"
      ],
      "metadata": {
        "colab": {
          "base_uri": "https://localhost:8080/"
        },
        "id": "ngRAI-JeGBYe",
        "outputId": "f0b6de0b-5186-49b9-b567-d2449725d068"
      },
      "execution_count": 34,
      "outputs": [
        {
          "output_type": "stream",
          "name": "stdout",
          "text": [
            "E = MC**2\n"
          ]
        }
      ]
    },
    {
      "cell_type": "code",
      "source": [
        "function_handler2(test_dict3)"
      ],
      "metadata": {
        "colab": {
          "base_uri": "https://localhost:8080/"
        },
        "id": "CDg8LkhcGBaz",
        "outputId": "641c4859-cb6a-4cd4-8c62-b7849888419c"
      },
      "execution_count": 35,
      "outputs": [
        {
          "output_type": "stream",
          "name": "stdout",
          "text": [
            "S = k Log W\n"
          ]
        }
      ]
    },
    {
      "cell_type": "code",
      "source": [],
      "metadata": {
        "id": "dnY074EUGBdJ"
      },
      "execution_count": null,
      "outputs": []
    }
  ]
}